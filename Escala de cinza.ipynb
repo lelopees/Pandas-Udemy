{
 "cells": [
  {
   "cell_type": "code",
   "execution_count": 4,
   "id": "aaa71afd",
   "metadata": {},
   "outputs": [],
   "source": [
    "from PIL import Image\n",
    "image = Image.new(\"RGB\", (100, 100), (150,150,150))\n",
    "image.show()"
   ]
  },
  {
   "cell_type": "code",
   "execution_count": 13,
   "id": "a6c92f9e",
   "metadata": {},
   "outputs": [],
   "source": [
    "# abre a imagem colorida\n",
    "img_colorida = Image.open('pensador.jpg')\n",
    "\n",
    "# converte a imagem para o modo L (escala de cinza)\n",
    "img_escala_de_cinza = img_colorida.convert('L')\n",
    "\n",
    "# salva a nova imagem\n",
    "img_escala_de_cinza.save('pensador_cinza.jpg')\n",
    "img_escala_de_cinza.show()"
   ]
  },
  {
   "cell_type": "code",
   "execution_count": 11,
   "id": "5a0b0033",
   "metadata": {},
   "outputs": [
    {
     "name": "stdout",
     "output_type": "stream",
     "text": [
      "[[[109  70  53]\n",
      "  [109  70  53]\n",
      "  [108  69  52]\n",
      "  ...\n",
      "  [ 54  42  44]\n",
      "  [ 60  48  50]\n",
      "  [ 67  55  57]]\n",
      "\n",
      " [[112  73  56]\n",
      "  [111  72  55]\n",
      "  [107  68  51]\n",
      "  ...\n",
      "  [ 52  40  42]\n",
      "  [ 55  43  45]\n",
      "  [ 61  49  51]]\n",
      "\n",
      " [[111  72  55]\n",
      "  [110  71  54]\n",
      "  [107  68  51]\n",
      "  ...\n",
      "  [ 51  39  41]\n",
      "  [ 54  42  44]\n",
      "  [ 60  48  50]]\n",
      "\n",
      " ...\n",
      "\n",
      " [[130  75  54]\n",
      "  [129  73  50]\n",
      "  [133  77  54]\n",
      "  ...\n",
      "  [122  76  63]\n",
      "  [119  75  62]\n",
      "  [125  81  68]]\n",
      "\n",
      " [[128  74  50]\n",
      "  [127  71  48]\n",
      "  [132  76  53]\n",
      "  ...\n",
      "  [125  79  66]\n",
      "  [119  75  62]\n",
      "  [123  79  66]]\n",
      "\n",
      " [[133  72  51]\n",
      "  [130  72  50]\n",
      "  [127  70  51]\n",
      "  ...\n",
      "  [139  86  72]\n",
      "  [133  80  64]\n",
      "  [140  84  69]]]\n"
     ]
    },
    {
     "data": {
      "text/plain": [
       "(225, 400, 3)"
      ]
     },
     "execution_count": 11,
     "metadata": {},
     "output_type": "execute_result"
    }
   ],
   "source": [
    "from skimage import io\n",
    "\n",
    "img_colorida = io.imread(\"lena.jpg\")\n",
    "\n",
    "print(img_colorida)\n",
    "img_colorida.shape"
   ]
  },
  {
   "cell_type": "code",
   "execution_count": 12,
   "id": "773bafc1",
   "metadata": {},
   "outputs": [
    {
     "name": "stdout",
     "output_type": "stream",
     "text": [
      "[[ 80  81  79 ...  44  52  61]\n",
      " [ 86  83  77 ...  44  46  52]\n",
      " [ 85  83  77 ...  42  45  51]\n",
      " ...\n",
      " [ 89  90  92 ...  86  90  93]\n",
      " [ 87  90  92 ...  90  88  87]\n",
      " [ 89  89  85 ... 100  95  99]]\n"
     ]
    },
    {
     "data": {
      "text/plain": [
       "(225, 400)"
      ]
     },
     "execution_count": 12,
     "metadata": {},
     "output_type": "execute_result"
    }
   ],
   "source": [
    "img_colorida = io.imread(\"lena_cinza.jpg\")\n",
    "\n",
    "print(img_colorida)\n",
    "\n",
    "img_colorida.shape"
   ]
  }
 ],
 "metadata": {
  "kernelspec": {
   "display_name": "Python 3 (ipykernel)",
   "language": "python",
   "name": "python3"
  },
  "language_info": {
   "codemirror_mode": {
    "name": "ipython",
    "version": 3
   },
   "file_extension": ".py",
   "mimetype": "text/x-python",
   "name": "python",
   "nbconvert_exporter": "python",
   "pygments_lexer": "ipython3",
   "version": "3.9.7"
  }
 },
 "nbformat": 4,
 "nbformat_minor": 5
}
