{
 "cells": [
  {
   "cell_type": "code",
   "execution_count": 6,
   "id": "3e8d7bbb",
   "metadata": {},
   "outputs": [
    {
     "name": "stdout",
     "output_type": "stream",
     "text": [
      "(46, 136, 222)\n"
     ]
    }
   ],
   "source": [
    "from PIL import Image\n",
    "\n",
    "image = Image.open('pensador.jpg')\n",
    "print(image.getpixel((500,500)))\n",
    "\n",
    "image.show()"
   ]
  },
  {
   "cell_type": "code",
   "execution_count": 27,
   "id": "e72e27aa",
   "metadata": {},
   "outputs": [],
   "source": [
    "from PIL import Image\n",
    "image = Image.new(\"RGB\", (100, 100), (255,255,255))\n",
    "image.show()"
   ]
  },
  {
   "cell_type": "code",
   "execution_count": 15,
   "id": "060e53cc",
   "metadata": {},
   "outputs": [],
   "source": [
    "# criando imagens\n",
    "#image = Image.new(\"RGB\", (700,700), (255,255,0))\n",
    "\n",
    "#image.show()\n",
    "\n",
    "def triangulo(size):\n",
    "    white = (255,255,255)\n",
    "    black = (0,0,0)\n",
    "    image = Image.new(\"RGB\", (size, size), white)\n",
    "    \n",
    "    for x in range(size):\n",
    "        for y in range(size):\n",
    "            if x < y:\n",
    "                image.putpixel((x,y), black)  \n",
    "    return image\n",
    "\n",
    "# criando uma imagem de preto e branco\n",
    "t = triangulo(700)\n",
    "t.show()"
   ]
  },
  {
   "cell_type": "code",
   "execution_count": 22,
   "id": "4e36e4de",
   "metadata": {},
   "outputs": [],
   "source": [
    "def bandeira_franca(height):\n",
    "    razao = 3/2\n",
    "    width = int(height * razao)\n",
    "    \n",
    "    blue = (0,84,164)\n",
    "    white = (255,255,255)\n",
    "    red = (239,65,53)\n",
    "    \n",
    "    image = Image.new(\"RGB\", (width, height), white)\n",
    "    \n",
    "    offset = width//3\n",
    "    for x in range(offset):\n",
    "        for y in range(height):\n",
    "            image.putpixel((x,y), blue)\n",
    "            image.putpixel((x + 2*offset, y), red) # para pular o branco e pintar o vermelho\n",
    "    return image\n",
    "\n",
    "bandeira = bandeira_franca(700)\n",
    "bandeira.show()"
   ]
  },
  {
   "cell_type": "markdown",
   "id": "6ad27229",
   "metadata": {},
   "source": [
    "### exemplo 2"
   ]
  },
  {
   "cell_type": "code",
   "execution_count": 31,
   "id": "2462e89c",
   "metadata": {},
   "outputs": [
    {
     "name": "stdout",
     "output_type": "stream",
     "text": [
      "[[[109  70  53]\n",
      "  [109  70  53]\n",
      "  [108  69  52]\n",
      "  ...\n",
      "  [ 54  42  44]\n",
      "  [ 60  48  50]\n",
      "  [ 67  55  57]]\n",
      "\n",
      " [[112  73  56]\n",
      "  [111  72  55]\n",
      "  [107  68  51]\n",
      "  ...\n",
      "  [ 52  40  42]\n",
      "  [ 55  43  45]\n",
      "  [ 61  49  51]]\n",
      "\n",
      " [[111  72  55]\n",
      "  [110  71  54]\n",
      "  [107  68  51]\n",
      "  ...\n",
      "  [ 51  39  41]\n",
      "  [ 54  42  44]\n",
      "  [ 60  48  50]]\n",
      "\n",
      " ...\n",
      "\n",
      " [[130  75  54]\n",
      "  [129  73  50]\n",
      "  [133  77  54]\n",
      "  ...\n",
      "  [122  76  63]\n",
      "  [119  75  62]\n",
      "  [125  81  68]]\n",
      "\n",
      " [[128  74  50]\n",
      "  [127  71  48]\n",
      "  [132  76  53]\n",
      "  ...\n",
      "  [125  79  66]\n",
      "  [119  75  62]\n",
      "  [123  79  66]]\n",
      "\n",
      " [[133  72  51]\n",
      "  [130  72  50]\n",
      "  [127  70  51]\n",
      "  ...\n",
      "  [139  86  72]\n",
      "  [133  80  64]\n",
      "  [140  84  69]]]\n"
     ]
    },
    {
     "ename": "NameError",
     "evalue": "name 'pl' is not defined",
     "output_type": "error",
     "traceback": [
      "\u001b[1;31m---------------------------------------------------------------------------\u001b[0m",
      "\u001b[1;31mNameError\u001b[0m                                 Traceback (most recent call last)",
      "\u001b[1;32mC:\\Users\\LETICI~1.LOP\\AppData\\Local\\Temp/ipykernel_22552/2828990230.py\u001b[0m in \u001b[0;36m<module>\u001b[1;34m\u001b[0m\n\u001b[0;32m      6\u001b[0m \u001b[0mprint\u001b[0m\u001b[1;33m(\u001b[0m\u001b[0mimg\u001b[0m\u001b[1;33m)\u001b[0m\u001b[1;33m\u001b[0m\u001b[1;33m\u001b[0m\u001b[0m\n\u001b[0;32m      7\u001b[0m \u001b[1;33m\u001b[0m\u001b[0m\n\u001b[1;32m----> 8\u001b[1;33m \u001b[0mpl\u001b[0m\u001b[1;33m\u001b[0m\u001b[1;33m\u001b[0m\u001b[0m\n\u001b[0m",
      "\u001b[1;31mNameError\u001b[0m: name 'pl' is not defined"
     ]
    }
   ],
   "source": []
  }
 ],
 "metadata": {
  "kernelspec": {
   "display_name": "Python 3 (ipykernel)",
   "language": "python",
   "name": "python3"
  },
  "language_info": {
   "codemirror_mode": {
    "name": "ipython",
    "version": 3
   },
   "file_extension": ".py",
   "mimetype": "text/x-python",
   "name": "python",
   "nbconvert_exporter": "python",
   "pygments_lexer": "ipython3",
   "version": "3.9.7"
  }
 },
 "nbformat": 4,
 "nbformat_minor": 5
}
