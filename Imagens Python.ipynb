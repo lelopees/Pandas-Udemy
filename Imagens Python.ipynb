{
 "cells": [
  {
   "cell_type": "markdown",
   "id": "6420f52e",
   "metadata": {},
   "source": [
    "# Exemplo com Imagem"
   ]
  },
  {
   "cell_type": "markdown",
   "id": "c6df3d7c",
   "metadata": {},
   "source": [
    "Com essa biblioteca você pode realizar varios processamentos de imagem, obter e alterar valores de pixel, concatenar imagens etc."
   ]
  },
  {
   "cell_type": "code",
   "execution_count": null,
   "id": "5d2539f6",
   "metadata": {},
   "outputs": [],
   "source": [
    "from skimage import io\n",
    "import matplotlib.pyplot as plt\n",
    "\n",
    "img = io.imread('numpy.png')\n",
    "print(img.shape) # linha, coluna e camadas (720, 673, 4)\n",
    "plt.imshow(img)\n",
    "\n",
    "# corte na vertical\n",
    "nova_img = img[0:200]\n",
    "print(nova_img.shape)\n",
    "plt.imshow(nova_img)\n",
    "\n",
    "# corte na horizontal\n",
    "# pegando todas as linhas, depois pegando colunas de 0 a 200\n",
    "nova_img2 = img[:, 0:200]\n",
    "print(nova_img2.shape)\n",
    "plt.imshow(nova_img2)\n"
   ]
  },
  {
   "cell_type": "code",
   "execution_count": null,
   "id": "9f408c7a",
   "metadata": {},
   "outputs": [],
   "source": [
    "from PIL import Image\n",
    "\n",
    "im = np.array(Image.open('lena.jpg'))\n",
    "\n",
    "print(type(im))\n",
    "\n",
    "print(im.dtype)\n",
    "\n",
    "# 225 linhas, 400 colunas e 3 camadas (rgb , vermelho, verde e azul)\n",
    "print(im.shape)"
   ]
  }
 ],
 "metadata": {
  "kernelspec": {
   "display_name": "Python 3 (ipykernel)",
   "language": "python",
   "name": "python3"
  },
  "language_info": {
   "codemirror_mode": {
    "name": "ipython",
    "version": 3
   },
   "file_extension": ".py",
   "mimetype": "text/x-python",
   "name": "python",
   "nbconvert_exporter": "python",
   "pygments_lexer": "ipython3",
   "version": "3.9.7"
  }
 },
 "nbformat": 4,
 "nbformat_minor": 5
}
